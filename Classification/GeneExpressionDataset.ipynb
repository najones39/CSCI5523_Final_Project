{
 "cells": [
  {
   "cell_type": "code",
   "execution_count": 1,
   "id": "12abb2e2",
   "metadata": {},
   "outputs": [],
   "source": [
    "import pandas as pd\n",
    "import numpy as np\n",
    "import matplotlib.pyplot as plt\n",
    "\n",
    "from sklearn.neighbors import KNeighborsClassifier\n",
    "from sklearn.ensemble import RandomForestClassifier\n",
    "from sklearn.svm import SVC\n",
    "from sklearn.linear_model import LogisticRegression\n",
    "from sklearn.tree import DecisionTreeClassifier\n",
    "#import xgboost as xgb\n",
    "\n",
    "from sklearn.model_selection import train_test_split\n",
    "from sklearn.model_selection import GridSearchCV\n",
    "\n",
    "from sklearn.metrics import recall_score, precision_score, classification_report,accuracy_score,confusion_matrix, roc_curve, auc, roc_curve,accuracy_score,plot_confusion_matrix\n",
    "from sklearn.preprocessing import StandardScaler, normalize\n",
    "from sklearn.decomposition import PCA\n",
    "from scipy import ndimage\n",
    "import seaborn as sns"
   ]
  },
  {
   "cell_type": "code",
   "execution_count": 2,
   "id": "929d6a19",
   "metadata": {},
   "outputs": [
    {
     "name": "stdout",
     "output_type": "stream",
     "text": [
      "Index(['patient', 'cancer'], dtype='object')\n"
     ]
    }
   ],
   "source": [
    "patientType = pd.read_csv('GeneExpressionDataset/actual.csv')\n",
    "print(patientType.columns)"
   ]
  },
  {
   "cell_type": "code",
   "execution_count": 3,
   "id": "fabba7ba",
   "metadata": {},
   "outputs": [
    {
     "data": {
      "text/html": [
       "<div>\n",
       "<style scoped>\n",
       "    .dataframe tbody tr th:only-of-type {\n",
       "        vertical-align: middle;\n",
       "    }\n",
       "\n",
       "    .dataframe tbody tr th {\n",
       "        vertical-align: top;\n",
       "    }\n",
       "\n",
       "    .dataframe thead th {\n",
       "        text-align: right;\n",
       "    }\n",
       "</style>\n",
       "<table border=\"1\" class=\"dataframe\">\n",
       "  <thead>\n",
       "    <tr style=\"text-align: right;\">\n",
       "      <th></th>\n",
       "      <th>patient</th>\n",
       "      <th>cancer</th>\n",
       "    </tr>\n",
       "  </thead>\n",
       "  <tbody>\n",
       "    <tr>\n",
       "      <th>0</th>\n",
       "      <td>1</td>\n",
       "      <td>ALL</td>\n",
       "    </tr>\n",
       "    <tr>\n",
       "      <th>1</th>\n",
       "      <td>2</td>\n",
       "      <td>ALL</td>\n",
       "    </tr>\n",
       "    <tr>\n",
       "      <th>2</th>\n",
       "      <td>3</td>\n",
       "      <td>ALL</td>\n",
       "    </tr>\n",
       "    <tr>\n",
       "      <th>3</th>\n",
       "      <td>4</td>\n",
       "      <td>ALL</td>\n",
       "    </tr>\n",
       "    <tr>\n",
       "      <th>4</th>\n",
       "      <td>5</td>\n",
       "      <td>ALL</td>\n",
       "    </tr>\n",
       "  </tbody>\n",
       "</table>\n",
       "</div>"
      ],
      "text/plain": [
       "   patient cancer\n",
       "0        1    ALL\n",
       "1        2    ALL\n",
       "2        3    ALL\n",
       "3        4    ALL\n",
       "4        5    ALL"
      ]
     },
     "execution_count": 3,
     "metadata": {},
     "output_type": "execute_result"
    }
   ],
   "source": [
    "patientType.head()"
   ]
  },
  {
   "cell_type": "code",
   "execution_count": 4,
   "id": "fd77c5ab",
   "metadata": {},
   "outputs": [
    {
     "name": "stdout",
     "output_type": "stream",
     "text": [
      "Index(['Gene Description', 'Gene Accession Number', '1', 'call', '2', 'call.1',\n",
      "       '3', 'call.2', '4', 'call.3', '5', 'call.4', '6', 'call.5', '7',\n",
      "       'call.6', '8', 'call.7', '9', 'call.8', '10', 'call.9', '11', 'call.10',\n",
      "       '12', 'call.11', '13', 'call.12', '14', 'call.13', '15', 'call.14',\n",
      "       '16', 'call.15', '17', 'call.16', '18', 'call.17', '19', 'call.18',\n",
      "       '20', 'call.19', '21', 'call.20', '22', 'call.21', '23', 'call.22',\n",
      "       '24', 'call.23', '25', 'call.24', '26', 'call.25', '27', 'call.26',\n",
      "       '34', 'call.27', '35', 'call.28', '36', 'call.29', '37', 'call.30',\n",
      "       '38', 'call.31', '28', 'call.32', '29', 'call.33', '30', 'call.34',\n",
      "       '31', 'call.35', '32', 'call.36', '33', 'call.37'],\n",
      "      dtype='object')\n"
     ]
    }
   ],
   "source": [
    "trainFull = pd.read_csv('GeneExpressionDataset/data_set_ALL_AML_train.csv')\n",
    "print(trainFull.columns)"
   ]
  },
  {
   "cell_type": "code",
   "execution_count": 5,
   "id": "0271d6f6",
   "metadata": {},
   "outputs": [
    {
     "data": {
      "text/html": [
       "<div>\n",
       "<style scoped>\n",
       "    .dataframe tbody tr th:only-of-type {\n",
       "        vertical-align: middle;\n",
       "    }\n",
       "\n",
       "    .dataframe tbody tr th {\n",
       "        vertical-align: top;\n",
       "    }\n",
       "\n",
       "    .dataframe thead th {\n",
       "        text-align: right;\n",
       "    }\n",
       "</style>\n",
       "<table border=\"1\" class=\"dataframe\">\n",
       "  <thead>\n",
       "    <tr style=\"text-align: right;\">\n",
       "      <th></th>\n",
       "      <th>Gene Description</th>\n",
       "      <th>Gene Accession Number</th>\n",
       "      <th>1</th>\n",
       "      <th>call</th>\n",
       "      <th>2</th>\n",
       "      <th>call.1</th>\n",
       "      <th>3</th>\n",
       "      <th>call.2</th>\n",
       "      <th>4</th>\n",
       "      <th>call.3</th>\n",
       "      <th>...</th>\n",
       "      <th>29</th>\n",
       "      <th>call.33</th>\n",
       "      <th>30</th>\n",
       "      <th>call.34</th>\n",
       "      <th>31</th>\n",
       "      <th>call.35</th>\n",
       "      <th>32</th>\n",
       "      <th>call.36</th>\n",
       "      <th>33</th>\n",
       "      <th>call.37</th>\n",
       "    </tr>\n",
       "  </thead>\n",
       "  <tbody>\n",
       "    <tr>\n",
       "      <th>0</th>\n",
       "      <td>AFFX-BioB-5_at (endogenous control)</td>\n",
       "      <td>AFFX-BioB-5_at</td>\n",
       "      <td>-214</td>\n",
       "      <td>A</td>\n",
       "      <td>-139</td>\n",
       "      <td>A</td>\n",
       "      <td>-76</td>\n",
       "      <td>A</td>\n",
       "      <td>-135</td>\n",
       "      <td>A</td>\n",
       "      <td>...</td>\n",
       "      <td>15</td>\n",
       "      <td>A</td>\n",
       "      <td>-318</td>\n",
       "      <td>A</td>\n",
       "      <td>-32</td>\n",
       "      <td>A</td>\n",
       "      <td>-124</td>\n",
       "      <td>A</td>\n",
       "      <td>-135</td>\n",
       "      <td>A</td>\n",
       "    </tr>\n",
       "    <tr>\n",
       "      <th>1</th>\n",
       "      <td>AFFX-BioB-M_at (endogenous control)</td>\n",
       "      <td>AFFX-BioB-M_at</td>\n",
       "      <td>-153</td>\n",
       "      <td>A</td>\n",
       "      <td>-73</td>\n",
       "      <td>A</td>\n",
       "      <td>-49</td>\n",
       "      <td>A</td>\n",
       "      <td>-114</td>\n",
       "      <td>A</td>\n",
       "      <td>...</td>\n",
       "      <td>-114</td>\n",
       "      <td>A</td>\n",
       "      <td>-192</td>\n",
       "      <td>A</td>\n",
       "      <td>-49</td>\n",
       "      <td>A</td>\n",
       "      <td>-79</td>\n",
       "      <td>A</td>\n",
       "      <td>-186</td>\n",
       "      <td>A</td>\n",
       "    </tr>\n",
       "    <tr>\n",
       "      <th>2</th>\n",
       "      <td>AFFX-BioB-3_at (endogenous control)</td>\n",
       "      <td>AFFX-BioB-3_at</td>\n",
       "      <td>-58</td>\n",
       "      <td>A</td>\n",
       "      <td>-1</td>\n",
       "      <td>A</td>\n",
       "      <td>-307</td>\n",
       "      <td>A</td>\n",
       "      <td>265</td>\n",
       "      <td>A</td>\n",
       "      <td>...</td>\n",
       "      <td>2</td>\n",
       "      <td>A</td>\n",
       "      <td>-95</td>\n",
       "      <td>A</td>\n",
       "      <td>49</td>\n",
       "      <td>A</td>\n",
       "      <td>-37</td>\n",
       "      <td>A</td>\n",
       "      <td>-70</td>\n",
       "      <td>A</td>\n",
       "    </tr>\n",
       "    <tr>\n",
       "      <th>3</th>\n",
       "      <td>AFFX-BioC-5_at (endogenous control)</td>\n",
       "      <td>AFFX-BioC-5_at</td>\n",
       "      <td>88</td>\n",
       "      <td>A</td>\n",
       "      <td>283</td>\n",
       "      <td>A</td>\n",
       "      <td>309</td>\n",
       "      <td>A</td>\n",
       "      <td>12</td>\n",
       "      <td>A</td>\n",
       "      <td>...</td>\n",
       "      <td>193</td>\n",
       "      <td>A</td>\n",
       "      <td>312</td>\n",
       "      <td>A</td>\n",
       "      <td>230</td>\n",
       "      <td>P</td>\n",
       "      <td>330</td>\n",
       "      <td>A</td>\n",
       "      <td>337</td>\n",
       "      <td>A</td>\n",
       "    </tr>\n",
       "    <tr>\n",
       "      <th>4</th>\n",
       "      <td>AFFX-BioC-3_at (endogenous control)</td>\n",
       "      <td>AFFX-BioC-3_at</td>\n",
       "      <td>-295</td>\n",
       "      <td>A</td>\n",
       "      <td>-264</td>\n",
       "      <td>A</td>\n",
       "      <td>-376</td>\n",
       "      <td>A</td>\n",
       "      <td>-419</td>\n",
       "      <td>A</td>\n",
       "      <td>...</td>\n",
       "      <td>-51</td>\n",
       "      <td>A</td>\n",
       "      <td>-139</td>\n",
       "      <td>A</td>\n",
       "      <td>-367</td>\n",
       "      <td>A</td>\n",
       "      <td>-188</td>\n",
       "      <td>A</td>\n",
       "      <td>-407</td>\n",
       "      <td>A</td>\n",
       "    </tr>\n",
       "  </tbody>\n",
       "</table>\n",
       "<p>5 rows × 78 columns</p>\n",
       "</div>"
      ],
      "text/plain": [
       "                      Gene Description Gene Accession Number    1 call    2  \\\n",
       "0  AFFX-BioB-5_at (endogenous control)        AFFX-BioB-5_at -214    A -139   \n",
       "1  AFFX-BioB-M_at (endogenous control)        AFFX-BioB-M_at -153    A  -73   \n",
       "2  AFFX-BioB-3_at (endogenous control)        AFFX-BioB-3_at  -58    A   -1   \n",
       "3  AFFX-BioC-5_at (endogenous control)        AFFX-BioC-5_at   88    A  283   \n",
       "4  AFFX-BioC-3_at (endogenous control)        AFFX-BioC-3_at -295    A -264   \n",
       "\n",
       "  call.1    3 call.2    4 call.3  ...   29 call.33   30 call.34   31 call.35  \\\n",
       "0      A  -76      A -135      A  ...   15       A -318       A  -32       A   \n",
       "1      A  -49      A -114      A  ... -114       A -192       A  -49       A   \n",
       "2      A -307      A  265      A  ...    2       A  -95       A   49       A   \n",
       "3      A  309      A   12      A  ...  193       A  312       A  230       P   \n",
       "4      A -376      A -419      A  ...  -51       A -139       A -367       A   \n",
       "\n",
       "    32 call.36   33 call.37  \n",
       "0 -124       A -135       A  \n",
       "1  -79       A -186       A  \n",
       "2  -37       A  -70       A  \n",
       "3  330       A  337       A  \n",
       "4 -188       A -407       A  \n",
       "\n",
       "[5 rows x 78 columns]"
      ]
     },
     "execution_count": 5,
     "metadata": {},
     "output_type": "execute_result"
    }
   ],
   "source": [
    "trainFull.head()"
   ]
  },
  {
   "cell_type": "code",
   "execution_count": 6,
   "id": "94f6d5a0",
   "metadata": {},
   "outputs": [
    {
     "name": "stdout",
     "output_type": "stream",
     "text": [
      "Index(['Gene Description', 'Gene Accession Number', '39', 'call', '40',\n",
      "       'call.1', '42', 'call.2', '47', 'call.3', '48', 'call.4', '49',\n",
      "       'call.5', '41', 'call.6', '43', 'call.7', '44', 'call.8', '45',\n",
      "       'call.9', '46', 'call.10', '70', 'call.11', '71', 'call.12', '72',\n",
      "       'call.13', '68', 'call.14', '69', 'call.15', '67', 'call.16', '55',\n",
      "       'call.17', '56', 'call.18', '59', 'call.19', '52', 'call.20', '53',\n",
      "       'call.21', '51', 'call.22', '50', 'call.23', '54', 'call.24', '57',\n",
      "       'call.25', '58', 'call.26', '60', 'call.27', '61', 'call.28', '65',\n",
      "       'call.29', '66', 'call.30', '63', 'call.31', '64', 'call.32', '62',\n",
      "       'call.33'],\n",
      "      dtype='object')\n"
     ]
    }
   ],
   "source": [
    "testFull = pd.read_csv('GeneExpressionDataset/data_set_ALL_AML_independent.csv')\n",
    "print(testFull.columns)"
   ]
  },
  {
   "cell_type": "code",
   "execution_count": 7,
   "id": "315cf843",
   "metadata": {},
   "outputs": [
    {
     "data": {
      "text/html": [
       "<div>\n",
       "<style scoped>\n",
       "    .dataframe tbody tr th:only-of-type {\n",
       "        vertical-align: middle;\n",
       "    }\n",
       "\n",
       "    .dataframe tbody tr th {\n",
       "        vertical-align: top;\n",
       "    }\n",
       "\n",
       "    .dataframe thead th {\n",
       "        text-align: right;\n",
       "    }\n",
       "</style>\n",
       "<table border=\"1\" class=\"dataframe\">\n",
       "  <thead>\n",
       "    <tr style=\"text-align: right;\">\n",
       "      <th></th>\n",
       "      <th>Gene Description</th>\n",
       "      <th>Gene Accession Number</th>\n",
       "      <th>39</th>\n",
       "      <th>call</th>\n",
       "      <th>40</th>\n",
       "      <th>call.1</th>\n",
       "      <th>42</th>\n",
       "      <th>call.2</th>\n",
       "      <th>47</th>\n",
       "      <th>call.3</th>\n",
       "      <th>...</th>\n",
       "      <th>65</th>\n",
       "      <th>call.29</th>\n",
       "      <th>66</th>\n",
       "      <th>call.30</th>\n",
       "      <th>63</th>\n",
       "      <th>call.31</th>\n",
       "      <th>64</th>\n",
       "      <th>call.32</th>\n",
       "      <th>62</th>\n",
       "      <th>call.33</th>\n",
       "    </tr>\n",
       "  </thead>\n",
       "  <tbody>\n",
       "    <tr>\n",
       "      <th>0</th>\n",
       "      <td>AFFX-BioB-5_at (endogenous control)</td>\n",
       "      <td>AFFX-BioB-5_at</td>\n",
       "      <td>-342</td>\n",
       "      <td>A</td>\n",
       "      <td>-87</td>\n",
       "      <td>A</td>\n",
       "      <td>22</td>\n",
       "      <td>A</td>\n",
       "      <td>-243</td>\n",
       "      <td>A</td>\n",
       "      <td>...</td>\n",
       "      <td>-62</td>\n",
       "      <td>A</td>\n",
       "      <td>-58</td>\n",
       "      <td>A</td>\n",
       "      <td>-161</td>\n",
       "      <td>A</td>\n",
       "      <td>-48</td>\n",
       "      <td>A</td>\n",
       "      <td>-176</td>\n",
       "      <td>A</td>\n",
       "    </tr>\n",
       "    <tr>\n",
       "      <th>1</th>\n",
       "      <td>AFFX-BioB-M_at (endogenous control)</td>\n",
       "      <td>AFFX-BioB-M_at</td>\n",
       "      <td>-200</td>\n",
       "      <td>A</td>\n",
       "      <td>-248</td>\n",
       "      <td>A</td>\n",
       "      <td>-153</td>\n",
       "      <td>A</td>\n",
       "      <td>-218</td>\n",
       "      <td>A</td>\n",
       "      <td>...</td>\n",
       "      <td>-198</td>\n",
       "      <td>A</td>\n",
       "      <td>-217</td>\n",
       "      <td>A</td>\n",
       "      <td>-215</td>\n",
       "      <td>A</td>\n",
       "      <td>-531</td>\n",
       "      <td>A</td>\n",
       "      <td>-284</td>\n",
       "      <td>A</td>\n",
       "    </tr>\n",
       "    <tr>\n",
       "      <th>2</th>\n",
       "      <td>AFFX-BioB-3_at (endogenous control)</td>\n",
       "      <td>AFFX-BioB-3_at</td>\n",
       "      <td>41</td>\n",
       "      <td>A</td>\n",
       "      <td>262</td>\n",
       "      <td>A</td>\n",
       "      <td>17</td>\n",
       "      <td>A</td>\n",
       "      <td>-163</td>\n",
       "      <td>A</td>\n",
       "      <td>...</td>\n",
       "      <td>-5</td>\n",
       "      <td>A</td>\n",
       "      <td>63</td>\n",
       "      <td>A</td>\n",
       "      <td>-46</td>\n",
       "      <td>A</td>\n",
       "      <td>-124</td>\n",
       "      <td>A</td>\n",
       "      <td>-81</td>\n",
       "      <td>A</td>\n",
       "    </tr>\n",
       "    <tr>\n",
       "      <th>3</th>\n",
       "      <td>AFFX-BioC-5_at (endogenous control)</td>\n",
       "      <td>AFFX-BioC-5_at</td>\n",
       "      <td>328</td>\n",
       "      <td>A</td>\n",
       "      <td>295</td>\n",
       "      <td>A</td>\n",
       "      <td>276</td>\n",
       "      <td>A</td>\n",
       "      <td>182</td>\n",
       "      <td>A</td>\n",
       "      <td>...</td>\n",
       "      <td>141</td>\n",
       "      <td>A</td>\n",
       "      <td>95</td>\n",
       "      <td>A</td>\n",
       "      <td>146</td>\n",
       "      <td>A</td>\n",
       "      <td>431</td>\n",
       "      <td>A</td>\n",
       "      <td>9</td>\n",
       "      <td>A</td>\n",
       "    </tr>\n",
       "    <tr>\n",
       "      <th>4</th>\n",
       "      <td>AFFX-BioC-3_at (endogenous control)</td>\n",
       "      <td>AFFX-BioC-3_at</td>\n",
       "      <td>-224</td>\n",
       "      <td>A</td>\n",
       "      <td>-226</td>\n",
       "      <td>A</td>\n",
       "      <td>-211</td>\n",
       "      <td>A</td>\n",
       "      <td>-289</td>\n",
       "      <td>A</td>\n",
       "      <td>...</td>\n",
       "      <td>-256</td>\n",
       "      <td>A</td>\n",
       "      <td>-191</td>\n",
       "      <td>A</td>\n",
       "      <td>-172</td>\n",
       "      <td>A</td>\n",
       "      <td>-496</td>\n",
       "      <td>A</td>\n",
       "      <td>-294</td>\n",
       "      <td>A</td>\n",
       "    </tr>\n",
       "  </tbody>\n",
       "</table>\n",
       "<p>5 rows × 70 columns</p>\n",
       "</div>"
      ],
      "text/plain": [
       "                      Gene Description Gene Accession Number   39 call   40  \\\n",
       "0  AFFX-BioB-5_at (endogenous control)        AFFX-BioB-5_at -342    A  -87   \n",
       "1  AFFX-BioB-M_at (endogenous control)        AFFX-BioB-M_at -200    A -248   \n",
       "2  AFFX-BioB-3_at (endogenous control)        AFFX-BioB-3_at   41    A  262   \n",
       "3  AFFX-BioC-5_at (endogenous control)        AFFX-BioC-5_at  328    A  295   \n",
       "4  AFFX-BioC-3_at (endogenous control)        AFFX-BioC-3_at -224    A -226   \n",
       "\n",
       "  call.1   42 call.2   47 call.3  ...   65 call.29   66 call.30   63 call.31  \\\n",
       "0      A   22      A -243      A  ...  -62       A  -58       A -161       A   \n",
       "1      A -153      A -218      A  ... -198       A -217       A -215       A   \n",
       "2      A   17      A -163      A  ...   -5       A   63       A  -46       A   \n",
       "3      A  276      A  182      A  ...  141       A   95       A  146       A   \n",
       "4      A -211      A -289      A  ... -256       A -191       A -172       A   \n",
       "\n",
       "    64 call.32   62 call.33  \n",
       "0  -48       A -176       A  \n",
       "1 -531       A -284       A  \n",
       "2 -124       A  -81       A  \n",
       "3  431       A    9       A  \n",
       "4 -496       A -294       A  \n",
       "\n",
       "[5 rows x 70 columns]"
      ]
     },
     "execution_count": 7,
     "metadata": {},
     "output_type": "execute_result"
    }
   ],
   "source": [
    "testFull.head()"
   ]
  },
  {
   "cell_type": "code",
   "execution_count": 8,
   "id": "d9f440fe",
   "metadata": {},
   "outputs": [],
   "source": [
    "#drop 'call' columns\n",
    "cols = [col for col in testFull.columns if 'call' in col]\n",
    "test = testFull.drop(cols, 1)\n",
    "cols = [col for col in trainFull.columns if 'call' in col]\n",
    "train = trainFull.drop(cols, 1)"
   ]
  },
  {
   "cell_type": "code",
   "execution_count": 9,
   "id": "aedc4aff",
   "metadata": {},
   "outputs": [],
   "source": [
    "#Join all the data\n",
    "patients = [str(i) for i in range(1, 73, 1)]\n",
    "df_all = pd.concat([train, test], axis = 1)[patients]"
   ]
  },
  {
   "cell_type": "code",
   "execution_count": 10,
   "id": "d7ef04df",
   "metadata": {},
   "outputs": [],
   "source": [
    "#transpose rows and columns\n",
    "df_all = df_all.T"
   ]
  },
  {
   "cell_type": "code",
   "execution_count": 11,
   "id": "ed61214f",
   "metadata": {},
   "outputs": [
    {
     "name": "stdout",
     "output_type": "stream",
     "text": [
      "<class 'pandas.core.frame.DataFrame'>\n",
      "Index: 72 entries, 1 to 72\n",
      "Columns: 7129 entries, 0 to 7128\n",
      "dtypes: int64(7129)\n",
      "memory usage: 3.9+ MB\n"
     ]
    }
   ],
   "source": [
    "df_all.info();"
   ]
  },
  {
   "cell_type": "code",
   "execution_count": 12,
   "id": "1f1aa986",
   "metadata": {},
   "outputs": [],
   "source": [
    "df_all[\"patient\"] = pd.to_numeric(patients)\n",
    "patientType[\"cancer\"]= pd.get_dummies(patientType.cancer, drop_first=True)\n",
    "# add the cancer column to train data\n",
    "\n",
    "Data = pd.merge(df_all, patientType, on=\"patient\")"
   ]
  },
  {
   "cell_type": "code",
   "execution_count": 13,
   "id": "0cc0ad87",
   "metadata": {},
   "outputs": [
    {
     "data": {
      "text/html": [
       "<div>\n",
       "<style scoped>\n",
       "    .dataframe tbody tr th:only-of-type {\n",
       "        vertical-align: middle;\n",
       "    }\n",
       "\n",
       "    .dataframe tbody tr th {\n",
       "        vertical-align: top;\n",
       "    }\n",
       "\n",
       "    .dataframe thead th {\n",
       "        text-align: right;\n",
       "    }\n",
       "</style>\n",
       "<table border=\"1\" class=\"dataframe\">\n",
       "  <thead>\n",
       "    <tr style=\"text-align: right;\">\n",
       "      <th></th>\n",
       "      <th>0</th>\n",
       "      <th>1</th>\n",
       "      <th>2</th>\n",
       "      <th>3</th>\n",
       "      <th>4</th>\n",
       "      <th>5</th>\n",
       "      <th>6</th>\n",
       "      <th>7</th>\n",
       "      <th>8</th>\n",
       "      <th>9</th>\n",
       "      <th>...</th>\n",
       "      <th>7121</th>\n",
       "      <th>7122</th>\n",
       "      <th>7123</th>\n",
       "      <th>7124</th>\n",
       "      <th>7125</th>\n",
       "      <th>7126</th>\n",
       "      <th>7127</th>\n",
       "      <th>7128</th>\n",
       "      <th>patient</th>\n",
       "      <th>cancer</th>\n",
       "    </tr>\n",
       "  </thead>\n",
       "  <tbody>\n",
       "    <tr>\n",
       "      <th>0</th>\n",
       "      <td>-214</td>\n",
       "      <td>-153</td>\n",
       "      <td>-58</td>\n",
       "      <td>88</td>\n",
       "      <td>-295</td>\n",
       "      <td>-558</td>\n",
       "      <td>199</td>\n",
       "      <td>-176</td>\n",
       "      <td>252</td>\n",
       "      <td>206</td>\n",
       "      <td>...</td>\n",
       "      <td>-125</td>\n",
       "      <td>389</td>\n",
       "      <td>-37</td>\n",
       "      <td>793</td>\n",
       "      <td>329</td>\n",
       "      <td>36</td>\n",
       "      <td>191</td>\n",
       "      <td>-37</td>\n",
       "      <td>1</td>\n",
       "      <td>0</td>\n",
       "    </tr>\n",
       "    <tr>\n",
       "      <th>1</th>\n",
       "      <td>-139</td>\n",
       "      <td>-73</td>\n",
       "      <td>-1</td>\n",
       "      <td>283</td>\n",
       "      <td>-264</td>\n",
       "      <td>-400</td>\n",
       "      <td>-330</td>\n",
       "      <td>-168</td>\n",
       "      <td>101</td>\n",
       "      <td>74</td>\n",
       "      <td>...</td>\n",
       "      <td>-36</td>\n",
       "      <td>442</td>\n",
       "      <td>-17</td>\n",
       "      <td>782</td>\n",
       "      <td>295</td>\n",
       "      <td>11</td>\n",
       "      <td>76</td>\n",
       "      <td>-14</td>\n",
       "      <td>2</td>\n",
       "      <td>0</td>\n",
       "    </tr>\n",
       "    <tr>\n",
       "      <th>2</th>\n",
       "      <td>-76</td>\n",
       "      <td>-49</td>\n",
       "      <td>-307</td>\n",
       "      <td>309</td>\n",
       "      <td>-376</td>\n",
       "      <td>-650</td>\n",
       "      <td>33</td>\n",
       "      <td>-367</td>\n",
       "      <td>206</td>\n",
       "      <td>-215</td>\n",
       "      <td>...</td>\n",
       "      <td>33</td>\n",
       "      <td>168</td>\n",
       "      <td>52</td>\n",
       "      <td>1138</td>\n",
       "      <td>777</td>\n",
       "      <td>41</td>\n",
       "      <td>228</td>\n",
       "      <td>-41</td>\n",
       "      <td>3</td>\n",
       "      <td>0</td>\n",
       "    </tr>\n",
       "    <tr>\n",
       "      <th>3</th>\n",
       "      <td>-135</td>\n",
       "      <td>-114</td>\n",
       "      <td>265</td>\n",
       "      <td>12</td>\n",
       "      <td>-419</td>\n",
       "      <td>-585</td>\n",
       "      <td>158</td>\n",
       "      <td>-253</td>\n",
       "      <td>49</td>\n",
       "      <td>31</td>\n",
       "      <td>...</td>\n",
       "      <td>218</td>\n",
       "      <td>174</td>\n",
       "      <td>-110</td>\n",
       "      <td>627</td>\n",
       "      <td>170</td>\n",
       "      <td>-50</td>\n",
       "      <td>126</td>\n",
       "      <td>-91</td>\n",
       "      <td>4</td>\n",
       "      <td>0</td>\n",
       "    </tr>\n",
       "    <tr>\n",
       "      <th>4</th>\n",
       "      <td>-106</td>\n",
       "      <td>-125</td>\n",
       "      <td>-76</td>\n",
       "      <td>168</td>\n",
       "      <td>-230</td>\n",
       "      <td>-284</td>\n",
       "      <td>4</td>\n",
       "      <td>-122</td>\n",
       "      <td>70</td>\n",
       "      <td>252</td>\n",
       "      <td>...</td>\n",
       "      <td>57</td>\n",
       "      <td>504</td>\n",
       "      <td>-26</td>\n",
       "      <td>250</td>\n",
       "      <td>314</td>\n",
       "      <td>14</td>\n",
       "      <td>56</td>\n",
       "      <td>-25</td>\n",
       "      <td>5</td>\n",
       "      <td>0</td>\n",
       "    </tr>\n",
       "    <tr>\n",
       "      <th>...</th>\n",
       "      <td>...</td>\n",
       "      <td>...</td>\n",
       "      <td>...</td>\n",
       "      <td>...</td>\n",
       "      <td>...</td>\n",
       "      <td>...</td>\n",
       "      <td>...</td>\n",
       "      <td>...</td>\n",
       "      <td>...</td>\n",
       "      <td>...</td>\n",
       "      <td>...</td>\n",
       "      <td>...</td>\n",
       "      <td>...</td>\n",
       "      <td>...</td>\n",
       "      <td>...</td>\n",
       "      <td>...</td>\n",
       "      <td>...</td>\n",
       "      <td>...</td>\n",
       "      <td>...</td>\n",
       "      <td>...</td>\n",
       "      <td>...</td>\n",
       "    </tr>\n",
       "    <tr>\n",
       "      <th>67</th>\n",
       "      <td>-154</td>\n",
       "      <td>-136</td>\n",
       "      <td>49</td>\n",
       "      <td>180</td>\n",
       "      <td>-257</td>\n",
       "      <td>-273</td>\n",
       "      <td>141</td>\n",
       "      <td>-123</td>\n",
       "      <td>52</td>\n",
       "      <td>878</td>\n",
       "      <td>...</td>\n",
       "      <td>13</td>\n",
       "      <td>1075</td>\n",
       "      <td>-45</td>\n",
       "      <td>524</td>\n",
       "      <td>249</td>\n",
       "      <td>40</td>\n",
       "      <td>-68</td>\n",
       "      <td>-1</td>\n",
       "      <td>68</td>\n",
       "      <td>0</td>\n",
       "    </tr>\n",
       "    <tr>\n",
       "      <th>68</th>\n",
       "      <td>-79</td>\n",
       "      <td>-118</td>\n",
       "      <td>-30</td>\n",
       "      <td>68</td>\n",
       "      <td>-110</td>\n",
       "      <td>-264</td>\n",
       "      <td>-28</td>\n",
       "      <td>-61</td>\n",
       "      <td>40</td>\n",
       "      <td>-217</td>\n",
       "      <td>...</td>\n",
       "      <td>-34</td>\n",
       "      <td>738</td>\n",
       "      <td>11</td>\n",
       "      <td>742</td>\n",
       "      <td>234</td>\n",
       "      <td>72</td>\n",
       "      <td>109</td>\n",
       "      <td>-30</td>\n",
       "      <td>69</td>\n",
       "      <td>0</td>\n",
       "    </tr>\n",
       "    <tr>\n",
       "      <th>69</th>\n",
       "      <td>-55</td>\n",
       "      <td>-44</td>\n",
       "      <td>12</td>\n",
       "      <td>129</td>\n",
       "      <td>-108</td>\n",
       "      <td>-301</td>\n",
       "      <td>-222</td>\n",
       "      <td>-133</td>\n",
       "      <td>136</td>\n",
       "      <td>320</td>\n",
       "      <td>...</td>\n",
       "      <td>35</td>\n",
       "      <td>241</td>\n",
       "      <td>-66</td>\n",
       "      <td>320</td>\n",
       "      <td>174</td>\n",
       "      <td>-4</td>\n",
       "      <td>176</td>\n",
       "      <td>40</td>\n",
       "      <td>70</td>\n",
       "      <td>0</td>\n",
       "    </tr>\n",
       "    <tr>\n",
       "      <th>70</th>\n",
       "      <td>-59</td>\n",
       "      <td>-114</td>\n",
       "      <td>23</td>\n",
       "      <td>146</td>\n",
       "      <td>-171</td>\n",
       "      <td>-227</td>\n",
       "      <td>-73</td>\n",
       "      <td>-126</td>\n",
       "      <td>-6</td>\n",
       "      <td>149</td>\n",
       "      <td>...</td>\n",
       "      <td>-38</td>\n",
       "      <td>201</td>\n",
       "      <td>-55</td>\n",
       "      <td>348</td>\n",
       "      <td>208</td>\n",
       "      <td>0</td>\n",
       "      <td>74</td>\n",
       "      <td>-12</td>\n",
       "      <td>71</td>\n",
       "      <td>0</td>\n",
       "    </tr>\n",
       "    <tr>\n",
       "      <th>71</th>\n",
       "      <td>-131</td>\n",
       "      <td>-126</td>\n",
       "      <td>-50</td>\n",
       "      <td>211</td>\n",
       "      <td>-206</td>\n",
       "      <td>-287</td>\n",
       "      <td>-34</td>\n",
       "      <td>-114</td>\n",
       "      <td>62</td>\n",
       "      <td>341</td>\n",
       "      <td>...</td>\n",
       "      <td>3</td>\n",
       "      <td>1046</td>\n",
       "      <td>27</td>\n",
       "      <td>874</td>\n",
       "      <td>393</td>\n",
       "      <td>34</td>\n",
       "      <td>237</td>\n",
       "      <td>-2</td>\n",
       "      <td>72</td>\n",
       "      <td>0</td>\n",
       "    </tr>\n",
       "  </tbody>\n",
       "</table>\n",
       "<p>72 rows × 7131 columns</p>\n",
       "</div>"
      ],
      "text/plain": [
       "      0    1    2    3    4    5    6    7    8    9  ...  7121  7122  7123  \\\n",
       "0  -214 -153  -58   88 -295 -558  199 -176  252  206  ...  -125   389   -37   \n",
       "1  -139  -73   -1  283 -264 -400 -330 -168  101   74  ...   -36   442   -17   \n",
       "2   -76  -49 -307  309 -376 -650   33 -367  206 -215  ...    33   168    52   \n",
       "3  -135 -114  265   12 -419 -585  158 -253   49   31  ...   218   174  -110   \n",
       "4  -106 -125  -76  168 -230 -284    4 -122   70  252  ...    57   504   -26   \n",
       "..  ...  ...  ...  ...  ...  ...  ...  ...  ...  ...  ...   ...   ...   ...   \n",
       "67 -154 -136   49  180 -257 -273  141 -123   52  878  ...    13  1075   -45   \n",
       "68  -79 -118  -30   68 -110 -264  -28  -61   40 -217  ...   -34   738    11   \n",
       "69  -55  -44   12  129 -108 -301 -222 -133  136  320  ...    35   241   -66   \n",
       "70  -59 -114   23  146 -171 -227  -73 -126   -6  149  ...   -38   201   -55   \n",
       "71 -131 -126  -50  211 -206 -287  -34 -114   62  341  ...     3  1046    27   \n",
       "\n",
       "    7124  7125  7126  7127  7128  patient  cancer  \n",
       "0    793   329    36   191   -37        1       0  \n",
       "1    782   295    11    76   -14        2       0  \n",
       "2   1138   777    41   228   -41        3       0  \n",
       "3    627   170   -50   126   -91        4       0  \n",
       "4    250   314    14    56   -25        5       0  \n",
       "..   ...   ...   ...   ...   ...      ...     ...  \n",
       "67   524   249    40   -68    -1       68       0  \n",
       "68   742   234    72   109   -30       69       0  \n",
       "69   320   174    -4   176    40       70       0  \n",
       "70   348   208     0    74   -12       71       0  \n",
       "71   874   393    34   237    -2       72       0  \n",
       "\n",
       "[72 rows x 7131 columns]"
      ]
     },
     "execution_count": 13,
     "metadata": {},
     "output_type": "execute_result"
    }
   ],
   "source": [
    "Data"
   ]
  },
  {
   "cell_type": "code",
   "execution_count": 14,
   "id": "aa96b0b6",
   "metadata": {},
   "outputs": [
    {
     "data": {
      "text/plain": [
       "0    47\n",
       "1    25\n",
       "Name: cancer, dtype: int64"
      ]
     },
     "execution_count": 14,
     "metadata": {},
     "output_type": "execute_result"
    }
   ],
   "source": [
    "Data['cancer'].value_counts()"
   ]
  },
  {
   "cell_type": "code",
   "execution_count": 15,
   "id": "852c0d1d",
   "metadata": {},
   "outputs": [],
   "source": [
    "TryData = pd.DataFrame(Data, columns=[4679, 6180, 5551, 4317, 1684, 2641, 1961, 5937, 1703, 6776, 1881, 1673, 1778, 2401, 6200, 4935, 6223, 6208, 2287, 6805])"
   ]
  },
  {
   "cell_type": "code",
   "execution_count": 16,
   "id": "7df0bf7c",
   "metadata": {},
   "outputs": [
    {
     "name": "stderr",
     "output_type": "stream",
     "text": [
      "C:\\Users\\isaac\\anaconda3\\lib\\site-packages\\seaborn\\_decorators.py:36: FutureWarning: Pass the following variable as a keyword arg: x. From version 0.12, the only valid positional argument will be `data`, and passing other arguments without an explicit keyword will result in an error or misinterpretation.\n",
      "  warnings.warn(\n"
     ]
    },
    {
     "data": {
      "text/plain": [
       "Text(0.5, 1.0, 'Class Distributions \\n (0: AML || 1: ALL)')"
      ]
     },
     "execution_count": 16,
     "metadata": {},
     "output_type": "execute_result"
    },
    {
     "data": {
      "image/png": "[encoded data removed]",
      "text/plain": [
       "<Figure size 288x576 with 1 Axes>"
      ]
     },
     "metadata": {
      "needs_background": "light"
     },
     "output_type": "display_data"
    }
   ],
   "source": [
    "plt.figure(figsize=(4,8))\n",
    "colors = [\"AML\", \"ALL\"]\n",
    "sns.countplot('cancer', data=Data, palette = \"Set1\")\n",
    "plt.title('Class Distributions \\n (0: AML || 1: ALL)', fontsize=14)"
   ]
  },
  {
   "cell_type": "code",
   "execution_count": 17,
   "id": "b4743165",
   "metadata": {},
   "outputs": [],
   "source": [
    "amlMeans = Data[Data['cancer'] == 1].mean()"
   ]
  },
  {
   "cell_type": "code",
   "execution_count": 18,
   "id": "b62a99b5",
   "metadata": {},
   "outputs": [],
   "source": [
    "allMeans = Data[Data['cancer'] == 0].mean()"
   ]
  },
  {
   "cell_type": "code",
   "execution_count": 19,
   "id": "1f5562d7",
   "metadata": {},
   "outputs": [
    {
     "data": {
      "text/plain": [
       "0          -99.28\n",
       "1         -183.40\n",
       "2           -2.16\n",
       "3          233.12\n",
       "4         -280.68\n",
       "            ...  \n",
       "7126         1.64\n",
       "7127       715.00\n",
       "7128       -28.48\n",
       "patient     47.16\n",
       "cancer       1.00\n",
       "Length: 7131, dtype: float64"
      ]
     },
     "execution_count": 19,
     "metadata": {},
     "output_type": "execute_result"
    }
   ],
   "source": [
    "amlMeans"
   ]
  },
  {
   "cell_type": "code",
   "execution_count": 20,
   "id": "7605c37d",
   "metadata": {},
   "outputs": [
    {
     "data": {
      "text/plain": [
       "0         -122.723404\n",
       "1         -147.744681\n",
       "2          -11.212766\n",
       "3          166.063830\n",
       "4         -238.744681\n",
       "              ...    \n",
       "7126        13.787234\n",
       "7127       283.744681\n",
       "7128       -31.680851\n",
       "patient     30.829787\n",
       "cancer       0.000000\n",
       "Length: 7131, dtype: float64"
      ]
     },
     "execution_count": 20,
     "metadata": {},
     "output_type": "execute_result"
    }
   ],
   "source": [
    "allMeans"
   ]
  },
  {
   "cell_type": "code",
   "execution_count": 21,
   "id": "9de51b54",
   "metadata": {},
   "outputs": [],
   "source": [
    "meansDiff = amlMeans - allMeans"
   ]
  },
  {
   "cell_type": "code",
   "execution_count": 22,
   "id": "dab2b2e1",
   "metadata": {},
   "outputs": [
    {
     "data": {
      "text/plain": [
       "0           23.443404\n",
       "1          -35.655319\n",
       "2            9.052766\n",
       "3           67.056170\n",
       "4          -41.935319\n",
       "              ...    \n",
       "7126       -12.147234\n",
       "7127       431.255319\n",
       "7128         3.200851\n",
       "patient     16.330213\n",
       "cancer       1.000000\n",
       "Length: 7131, dtype: float64"
      ]
     },
     "execution_count": 22,
     "metadata": {},
     "output_type": "execute_result"
    }
   ],
   "source": [
    "meansDiff"
   ]
  },
  {
   "cell_type": "code",
   "execution_count": 23,
   "id": "abbbc504",
   "metadata": {},
   "outputs": [],
   "source": [
    "#meansDiff.to_csv('meanDiff.csv')"
   ]
  },
  {
   "cell_type": "code",
   "execution_count": 24,
   "id": "784ab7d2",
   "metadata": {},
   "outputs": [],
   "source": [
    "X = Data.drop(['patient', 'cancer'], axis=1)\n",
    "y = Data.cancer"
   ]
  },
  {
   "cell_type": "code",
   "execution_count": 25,
   "id": "9478d5bc",
   "metadata": {},
   "outputs": [],
   "source": [
    "from sklearn.neighbors import KNeighborsClassifier\n",
    "from sklearn.tree import DecisionTreeClassifier\n",
    "from sklearn.naive_bayes import GaussianNB\n",
    "from sklearn.naive_bayes import BernoulliNB\n",
    "\n",
    "\n",
    "\n",
    "from sklearn.model_selection import train_test_split\n",
    "from sklearn.model_selection import cross_val_score\n",
    "from sklearn.model_selection import StratifiedKFold\n",
    "from sklearn.metrics import accuracy_score\n",
    "\n",
    "# Initial model selection process\n",
    "models = []\n",
    "\n",
    "models.append(('KNN', KNeighborsClassifier()))\n",
    "models.append(('DT', DecisionTreeClassifier()))\n",
    "models.append(('GNB', GaussianNB()))\n",
    "models.append((\"BNB\", BernoulliNB()))"
   ]
  },
  {
   "cell_type": "code",
   "execution_count": 26,
   "id": "e5bb95e7",
   "metadata": {},
   "outputs": [],
   "source": [
    "# Train/Test split\n",
    "X_train, X_test, y_train, y_test = train_test_split(X, y, stratify = Data.cancer, random_state=0)"
   ]
  },
  {
   "cell_type": "code",
   "execution_count": 27,
   "id": "b07a09d6",
   "metadata": {},
   "outputs": [
    {
     "name": "stdout",
     "output_type": "stream",
     "text": [
      "  Name     Score\n",
      "0  KNN  1.000000\n",
      "1   DT  0.944444\n",
      "2  GNB  1.000000\n",
      "3  BNB  0.944444\n"
     ]
    }
   ],
   "source": [
    "names = []\n",
    "scores = []\n",
    "\n",
    "for name, model in models:\n",
    "    model.fit(X_train, y_train)\n",
    "    y_pred = model.predict(X_test)\n",
    "    scores.append(accuracy_score(y_test, y_pred))\n",
    "    names.append(name)\n",
    "\n",
    "tr_split = pd.DataFrame({'Name': names, 'Score': scores})\n",
    "print(tr_split)"
   ]
  },
  {
   "cell_type": "code",
   "execution_count": 28,
   "id": "17dbf6b0",
   "metadata": {},
   "outputs": [
    {
     "name": "stdout",
     "output_type": "stream",
     "text": [
      "  Name     Score\n",
      "0  KNN  0.945714\n",
      "1   DT  0.791429\n",
      "2  GNB  0.972381\n",
      "3  BNB  0.902857\n"
     ]
    }
   ],
   "source": [
    "strat_k_fold = StratifiedKFold(n_splits=5, random_state=10, shuffle = True)\n",
    "\n",
    "names = []\n",
    "scores = []\n",
    "\n",
    "for name, model in models:\n",
    "    \n",
    "    score = cross_val_score(model, X, y, cv=strat_k_fold, scoring='accuracy').mean()\n",
    "    names.append(name)\n",
    "    scores.append(score)\n",
    "\n",
    "kf_cross_val = pd.DataFrame({'Name': names, 'Score': scores})\n",
    "print(kf_cross_val)"
   ]
  },
  {
   "cell_type": "code",
   "execution_count": 29,
   "id": "cbb5627c",
   "metadata": {},
   "outputs": [
    {
     "name": "stdout",
     "output_type": "stream",
     "text": [
      "  Name     Score\n",
      "0  KNN  0.944762\n",
      "1   DT  0.763810\n",
      "2  GNB  0.972381\n",
      "3  BNB  0.902857\n"
     ]
    }
   ],
   "source": [
    "# Initial model selection process\n",
    "models = []\n",
    "\n",
    "models.append(('KNN', KNeighborsClassifier(n_neighbors = 1)))\n",
    "models.append(('DT', DecisionTreeClassifier(max_depth = 6)))\n",
    "models.append(('GNB', GaussianNB()))\n",
    "models.append((\"BNB\", BernoulliNB()))\n",
    "\n",
    "\n",
    "strat_k_fold = StratifiedKFold(n_splits=5, random_state=10, shuffle = True)\n",
    "\n",
    "names = []\n",
    "scores = []\n",
    "\n",
    "for name, model in models:\n",
    "    \n",
    "    score = cross_val_score(model, X, y, cv=strat_k_fold, scoring='accuracy').mean()\n",
    "    names.append(name)\n",
    "    scores.append(score)\n",
    "\n",
    "kf_cross_val = pd.DataFrame({'Name': names, 'Score': scores})\n",
    "print(kf_cross_val)"
   ]
  },
  {
   "cell_type": "code",
   "execution_count": 30,
   "id": "46f91e55",
   "metadata": {},
   "outputs": [
    {
     "name": "stdout",
     "output_type": "stream",
     "text": [
      "     Name     Score\n",
      "0    DT-2  0.777143\n",
      "1    DT-3  0.820000\n",
      "2    DT-4  0.792381\n",
      "3    DT-5  0.820952\n",
      "4    DT-6  0.820952\n",
      "5    DT-7  0.748571\n",
      "6    DT-8  0.804762\n",
      "7    DT-9  0.750476\n",
      "8   DT-10  0.764762\n",
      "9   DT-11  0.792381\n",
      "10  DT-12  0.792381\n"
     ]
    }
   ],
   "source": [
    "# Initial model selection process\n",
    "models = []\n",
    "\n",
    "models.append(('DT-2', DecisionTreeClassifier(max_depth = 2)))\n",
    "models.append(('DT-3', DecisionTreeClassifier(max_depth = 3)))\n",
    "models.append(('DT-4', DecisionTreeClassifier(max_depth = 4)))\n",
    "models.append(('DT-5', DecisionTreeClassifier(max_depth = 5)))\n",
    "models.append(('DT-6', DecisionTreeClassifier(max_depth = 6)))\n",
    "models.append(('DT-7', DecisionTreeClassifier(max_depth = 7)))\n",
    "models.append(('DT-8', DecisionTreeClassifier(max_depth = 8)))\n",
    "models.append(('DT-9', DecisionTreeClassifier(max_depth = 9)))\n",
    "models.append(('DT-10', DecisionTreeClassifier(max_depth = 10)))\n",
    "models.append(('DT-11', DecisionTreeClassifier(max_depth = 11)))\n",
    "models.append(('DT-12', DecisionTreeClassifier(max_depth = 12)))\n",
    "\n",
    "\n",
    "strat_k_fold = StratifiedKFold(n_splits=5, random_state=10, shuffle = True)\n",
    "\n",
    "names = []\n",
    "scores = []\n",
    "\n",
    "for name, model in models:\n",
    "    \n",
    "    score = cross_val_score(model, X, y, cv=strat_k_fold, scoring='accuracy').mean()\n",
    "    names.append(name)\n",
    "    scores.append(score)\n",
    "\n",
    "kf_cross_val = pd.DataFrame({'Name': names, 'Score': scores})\n",
    "print(kf_cross_val)"
   ]
  },
  {
   "cell_type": "code",
   "execution_count": 31,
   "id": "b31cc7e9",
   "metadata": {},
   "outputs": [
    {
     "data": {
      "image/png": "[encoded data removed]",
      "text/plain": [
       "<Figure size 432x288 with 1 Axes>"
      ]
     },
     "metadata": {
      "needs_background": "light"
     },
     "output_type": "display_data"
    }
   ],
   "source": [
    "axis = sns.barplot(x = 'Name', y = 'Score', data = kf_cross_val)\n",
    "axis.set(xlabel='Classifier', ylabel='Accuracy')\n",
    "\n",
    "for p in axis.patches:\n",
    "    height = p.get_height()\n",
    "    axis.text(p.get_x() + p.get_width()/2, height + 0.005, '{:1.4f}'.format(height), ha=\"center\") \n",
    "    \n",
    "plt.show()"
   ]
  },
  {
   "cell_type": "code",
   "execution_count": 32,
   "id": "f6b709b2",
   "metadata": {},
   "outputs": [
    {
     "name": "stdout",
     "output_type": "stream",
     "text": [
      "      Name     Score\n",
      "0    KNN-1  0.944762\n",
      "1    KNN-2  0.917143\n",
      "2    KNN-3  0.917143\n",
      "3    KNN-4  0.889524\n",
      "4    KNN-5  0.945714\n",
      "5    KNN-6  0.890476\n",
      "6    KNN-7  0.932381\n",
      "7    KNN-8  0.835238\n",
      "8   KNN-10  0.849524\n",
      "9   KNN-12  0.820952\n",
      "10  KNN-13  0.849524\n",
      "11  KNN-15  0.806667\n",
      "12  KNN-18  0.721905\n",
      "13  KNN-20  0.694286\n"
     ]
    }
   ],
   "source": [
    "# Initial model selection process\n",
    "models = []\n",
    "\n",
    "models.append(('KNN-1', KNeighborsClassifier(n_neighbors = 1)))\n",
    "models.append(('KNN-2', KNeighborsClassifier(n_neighbors = 2)))\n",
    "models.append(('KNN-3', KNeighborsClassifier(n_neighbors = 3)))\n",
    "models.append(('KNN-4', KNeighborsClassifier(n_neighbors = 4)))\n",
    "models.append(('KNN-5', KNeighborsClassifier(n_neighbors = 5)))\n",
    "models.append(('KNN-6', KNeighborsClassifier(n_neighbors = 6)))\n",
    "models.append(('KNN-7', KNeighborsClassifier(n_neighbors = 7)))\n",
    "models.append(('KNN-8', KNeighborsClassifier(n_neighbors = 8)))\n",
    "models.append(('KNN-10', KNeighborsClassifier(n_neighbors = 10)))\n",
    "models.append(('KNN-12', KNeighborsClassifier(n_neighbors = 12)))\n",
    "models.append(('KNN-13', KNeighborsClassifier(n_neighbors = 13)))\n",
    "models.append(('KNN-15', KNeighborsClassifier(n_neighbors = 15)))\n",
    "models.append(('KNN-18', KNeighborsClassifier(n_neighbors = 18)))\n",
    "models.append(('KNN-20', KNeighborsClassifier(n_neighbors = 20)))\n",
    "\n",
    "strat_k_fold = StratifiedKFold(n_splits=5, random_state=10, shuffle = True)\n",
    "\n",
    "names = []\n",
    "scores = []\n",
    "\n",
    "for name, model in models:\n",
    "    \n",
    "    score = cross_val_score(model, X, y, cv=strat_k_fold, scoring='accuracy').mean()\n",
    "    names.append(name)\n",
    "    scores.append(score)\n",
    "\n",
    "kf_cross_val = pd.DataFrame({'Name': names, 'Score': scores})\n",
    "print(kf_cross_val)"
   ]
  },
  {
   "cell_type": "code",
   "execution_count": 33,
   "id": "29237481",
   "metadata": {},
   "outputs": [
    {
     "data": {
      "image/png": "[encoded data removed]",
      "text/plain": [
       "<Figure size 432x288 with 1 Axes>"
      ]
     },
     "metadata": {
      "needs_background": "light"
     },
     "output_type": "display_data"
    }
   ],
   "source": [
    "models = []\n",
    "\n",
    "models.append(('1', KNeighborsClassifier(n_neighbors = 1)))\n",
    "models.append(('2', KNeighborsClassifier(n_neighbors = 2)))\n",
    "models.append(('3', KNeighborsClassifier(n_neighbors = 3)))\n",
    "models.append(('4', KNeighborsClassifier(n_neighbors = 4)))\n",
    "models.append(('5', KNeighborsClassifier(n_neighbors = 5)))\n",
    "models.append(('8', KNeighborsClassifier(n_neighbors = 8)))\n",
    "models.append(('10', KNeighborsClassifier(n_neighbors = 10)))\n",
    "models.append(('12', KNeighborsClassifier(n_neighbors = 12)))\n",
    "models.append(('15', KNeighborsClassifier(n_neighbors = 15)))\n",
    "models.append(('18', KNeighborsClassifier(n_neighbors = 18)))\n",
    "models.append(('20', KNeighborsClassifier(n_neighbors = 20)))\n",
    "\n",
    "strat_k_fold = StratifiedKFold(n_splits=5, random_state=10, shuffle = True)\n",
    "\n",
    "names = []\n",
    "scores = []\n",
    "\n",
    "for name, model in models:\n",
    "    \n",
    "    score = cross_val_score(model, X, y, cv=strat_k_fold, scoring='accuracy').mean()\n",
    "    names.append(name)\n",
    "    scores.append(score)\n",
    "\n",
    "kf_cross_val = pd.DataFrame({'Name': names, 'Score': scores})\n",
    "\n",
    "axis = sns.barplot(x = 'Name', y = 'Score', data = kf_cross_val)\n",
    "axis.set(xlabel='Classifier', ylabel='Accuracy')\n",
    "\n",
    "for p in axis.patches:\n",
    "    height = p.get_height()\n",
    "    axis.text(p.get_x() + p.get_width()/2, height + 0.005, '{:1.4f}'.format(height), ha=\"center\") \n",
    "    \n",
    "plt.show()"
   ]
  },
  {
   "cell_type": "code",
   "execution_count": 34,
   "id": "5009045d",
   "metadata": {},
   "outputs": [
    {
     "name": "stdout",
     "output_type": "stream",
     "text": [
      "Fitting 10 folds for each of 19 candidates, totalling 190 fits\n"
     ]
    },
    {
     "data": {
      "text/plain": [
       "({'knn__n_neighbors': 3}, 0.8300000000000001)"
      ]
     },
     "execution_count": 34,
     "metadata": {},
     "output_type": "execute_result"
    }
   ],
   "source": [
    "from sklearn.pipeline import Pipeline\n",
    "\n",
    "knn_pipe = Pipeline([('scaler', StandardScaler()), ('knn', KNeighborsClassifier(n_jobs=-1))])\n",
    "\n",
    "knn_params = {'knn__n_neighbors': range(1, 20)}\n",
    "\n",
    "knn_grid = GridSearchCV(knn_pipe, knn_params,\n",
    "                        cv=10, n_jobs=-1, verbose=True)\n",
    "\n",
    "knn_grid.fit(X_train, y_train)\n",
    "\n",
    "knn_grid.best_params_, knn_grid.best_score_"
   ]
  },
  {
   "cell_type": "code",
   "execution_count": 35,
   "id": "3005d3ef",
   "metadata": {},
   "outputs": [
    {
     "name": "stdout",
     "output_type": "stream",
     "text": [
      "Fitting 5 folds for each of 360 candidates, totalling 1800 fits\n"
     ]
    },
    {
     "data": {
      "text/plain": [
       "GridSearchCV(cv=5, estimator=DecisionTreeClassifier(random_state=17), n_jobs=-1,\n",
       "             param_grid={'criterion': ['gini', 'entropy'],\n",
       "                         'max_depth': range(1, 11),\n",
       "                         'max_features': range(1, 19)},\n",
       "             verbose=True)"
      ]
     },
     "execution_count": 35,
     "metadata": {},
     "output_type": "execute_result"
    }
   ],
   "source": [
    "from sklearn.model_selection import GridSearchCV, cross_val_score\n",
    "\n",
    "tree = DecisionTreeClassifier(random_state=17)\n",
    "\n",
    "tree.fit(X, y)\n",
    "\n",
    "tree_params = {'max_depth': range(1,11),\n",
    "               'max_features': range(1,19),\n",
    "                'criterion': ['gini','entropy']}\n",
    "\n",
    "tree_grid = GridSearchCV(tree, tree_params, cv=5, n_jobs=-1, verbose=True)\n",
    "\n",
    "tree_grid.fit(X, y)"
   ]
  },
  {
   "cell_type": "code",
   "execution_count": 36,
   "id": "0025430f",
   "metadata": {},
   "outputs": [
    {
     "name": "stdout",
     "output_type": "stream",
     "text": [
      "Best parameters are {'criterion': 'gini', 'max_depth': 3, 'max_features': 14}\n"
     ]
    }
   ],
   "source": [
    "print (f\"Best parameters are {tree_grid.best_params_}\") "
   ]
  },
  {
   "cell_type": "code",
   "execution_count": 37,
   "id": "7a82f517",
   "metadata": {},
   "outputs": [
    {
     "data": {
      "text/plain": [
       "0.9323809523809524"
      ]
     },
     "execution_count": 37,
     "metadata": {},
     "output_type": "execute_result"
    }
   ],
   "source": [
    "tree_grid.best_score_ "
   ]
  },
  {
   "cell_type": "code",
   "execution_count": 38,
   "id": "aafd2be3",
   "metadata": {},
   "outputs": [],
   "source": [
    "from sklearn.tree import DecisionTreeClassifier\n",
    "import pydotplus #pip install pydotplus\n",
    "from sklearn.tree import export_graphviz\n",
    "\n",
    "# Let’s write an auxiliary function that will return grid for further visualization.\n",
    "\n",
    "def tree_graph_to_png(tree, feature_names, png_file_to_save):\n",
    "    tree_str = export_graphviz(tree, feature_names=feature_names, \n",
    "                                     filled=True, out_file=None)\n",
    "    graph = pydotplus.graph_from_dot_data(tree_str)  \n",
    "    graph.write_png(png_file_to_save)"
   ]
  },
  {
   "cell_type": "code",
   "execution_count": 39,
   "id": "7fa01b99",
   "metadata": {},
   "outputs": [
    {
     "data": {
      "image/png": "[encoded data removed]",
      "text/plain": [
       "<IPython.core.display.Image object>"
      ]
     },
     "execution_count": 39,
     "metadata": {
      "image/png": {
       "height": 600,
       "width": 600
      }
     },
     "output_type": "execute_result"
    }
   ],
   "source": [
    "#treeBest = DecisionTreeClassifier(max_depth = 3, max_features = 14, random_state=17)\n",
    "\n",
    "tree_graph_to_png(tree=tree_grid.best_estimator_, feature_names=X.columns, png_file_to_save='optimalDT.png')\n",
    "\n",
    "\n",
    "from IPython.display import Image\n",
    "from IPython.core.display import HTML \n",
    "PATH = \"optimalDT.png\"\n",
    "Image(filename = PATH , width=600, height=600)"
   ]
  },
  {
   "cell_type": "code",
   "execution_count": 40,
   "id": "f6d32eb4",
   "metadata": {},
   "outputs": [
    {
     "name": "stdout",
     "output_type": "stream",
     "text": [
      "     Name     Score\n",
      "0    DT-2  0.777143\n",
      "1    DT-3  0.819048\n",
      "2    DT-4  0.791429\n",
      "3    DT-5  0.764762\n",
      "4    DT-6  0.779048\n",
      "5    DT-7  0.804762\n",
      "6    DT-8  0.764762\n",
      "7    DT-9  0.778095\n",
      "8   DT-10  0.806667\n",
      "9   DT-11  0.778095\n",
      "10  DT-12  0.736190\n"
     ]
    }
   ],
   "source": [
    "# Initial model selection process\n",
    "models = []\n",
    "\n",
    "models.append(('DT-2', DecisionTreeClassifier(max_depth = 2)))\n",
    "models.append(('DT-3', DecisionTreeClassifier(max_depth = 3)))\n",
    "models.append(('DT-4', DecisionTreeClassifier(max_depth = 4)))\n",
    "models.append(('DT-5', DecisionTreeClassifier(max_depth = 5)))\n",
    "models.append(('DT-6', DecisionTreeClassifier(max_depth = 6)))\n",
    "models.append(('DT-7', DecisionTreeClassifier(max_depth = 7)))\n",
    "models.append(('DT-8', DecisionTreeClassifier(max_depth = 8)))\n",
    "models.append(('DT-9', DecisionTreeClassifier(max_depth = 9)))\n",
    "models.append(('DT-10', DecisionTreeClassifier(max_depth = 10)))\n",
    "models.append(('DT-11', DecisionTreeClassifier(max_depth = 11)))\n",
    "models.append(('DT-12', DecisionTreeClassifier(max_depth = 12)))\n",
    "\n",
    "\n",
    "strat_k_fold = StratifiedKFold(n_splits=5, random_state=10, shuffle = True)\n",
    "\n",
    "names = []\n",
    "scores = []\n",
    "\n",
    "for name, model in models:\n",
    "    \n",
    "    score = cross_val_score(model, X, y, cv=strat_k_fold, scoring='accuracy').mean()\n",
    "    names.append(name)\n",
    "    scores.append(score)\n",
    "\n",
    "kf_cross_val = pd.DataFrame({'Name': names, 'Score': scores})\n",
    "print(kf_cross_val)"
   ]
  },
  {
   "cell_type": "code",
   "execution_count": 41,
   "id": "d5d508d9",
   "metadata": {},
   "outputs": [
    {
     "name": "stdout",
     "output_type": "stream",
     "text": [
      "     Name     Score\n",
      "0    DT-2  0.735238\n",
      "1    DT-3  0.709524\n",
      "2    DT-4  0.598095\n",
      "3    DT-5  0.765714\n",
      "4    DT-6  0.679048\n",
      "5    DT-7  0.722857\n",
      "6    DT-8  0.694286\n",
      "7    DT-9  0.707619\n",
      "8   DT-10  0.737143\n",
      "9   DT-11  0.806667\n",
      "10  DT-12  0.710476\n"
     ]
    }
   ],
   "source": [
    "# Initial model selection process\n",
    "models = []\n",
    "\n",
    "models.append(('DT-2', DecisionTreeClassifier(max_depth = 2, max_features = 14)))\n",
    "models.append(('DT-3', DecisionTreeClassifier(max_depth = 3, max_features = 14)))\n",
    "models.append(('DT-4', DecisionTreeClassifier(max_depth = 4, max_features = 14)))\n",
    "models.append(('DT-5', DecisionTreeClassifier(max_depth = 5, max_features = 14)))\n",
    "models.append(('DT-6', DecisionTreeClassifier(max_depth = 6, max_features = 14)))\n",
    "models.append(('DT-7', DecisionTreeClassifier(max_depth = 7, max_features = 14)))\n",
    "models.append(('DT-8', DecisionTreeClassifier(max_depth = 8, max_features = 14)))\n",
    "models.append(('DT-9', DecisionTreeClassifier(max_depth = 9, max_features = 14)))\n",
    "models.append(('DT-10', DecisionTreeClassifier(max_depth = 10, max_features = 14)))\n",
    "models.append(('DT-11', DecisionTreeClassifier(max_depth = 11, max_features = 14)))\n",
    "models.append(('DT-12', DecisionTreeClassifier(max_depth = 12, max_features = 14)))\n",
    "\n",
    "\n",
    "strat_k_fold = StratifiedKFold(n_splits=5, random_state=10, shuffle = True)\n",
    "\n",
    "names = []\n",
    "scores = []\n",
    "\n",
    "for name, model in models:\n",
    "    \n",
    "    score = cross_val_score(model, X, y, cv=strat_k_fold, scoring='accuracy').mean()\n",
    "    names.append(name)\n",
    "    scores.append(score)\n",
    "\n",
    "kf_cross_val = pd.DataFrame({'Name': names, 'Score': scores})\n",
    "print(kf_cross_val)"
   ]
  },
  {
   "cell_type": "code",
   "execution_count": 52,
   "id": "0a68611e",
   "metadata": {},
   "outputs": [],
   "source": [
    "Top5 = pd.DataFrame(Data, columns=[4679, 6180, 5551, 4317, 1684, 1881, 1673, 1778, 2401, 6200])\n",
    "Top10 = pd.DataFrame(Data, columns=[4679, 6180, 5551, 4317, 1684, 2641, 1961, 5937, 1703, 6776, 1881, 1673, 1778, 2401, 6200, 4935, 6223, 6208, 2287, 6805])"
   ]
  },
  {
   "cell_type": "code",
   "execution_count": 53,
   "id": "1891d7a4",
   "metadata": {},
   "outputs": [
    {
     "name": "stdout",
     "output_type": "stream",
     "text": [
      "Fitting 5 folds for each of 162 candidates, totalling 810 fits\n"
     ]
    },
    {
     "data": {
      "text/plain": [
       "GridSearchCV(cv=5, estimator=DecisionTreeClassifier(random_state=17), n_jobs=-1,\n",
       "             param_grid={'criterion': ['gini', 'entropy'],\n",
       "                         'max_depth': range(1, 10),\n",
       "                         'max_features': range(1, 10)},\n",
       "             verbose=True)"
      ]
     },
     "execution_count": 53,
     "metadata": {},
     "output_type": "execute_result"
    }
   ],
   "source": [
    "from sklearn.model_selection import GridSearchCV, cross_val_score\n",
    "\n",
    "tree = DecisionTreeClassifier(random_state=17)\n",
    "\n",
    "tree.fit(Top5, y)\n",
    "\n",
    "tree_params = {'max_depth': range(1,10),\n",
    "               'max_features': range(1,10),\n",
    "                'criterion': ['gini','entropy']}\n",
    "\n",
    "tree_grid = GridSearchCV(tree, tree_params, cv=5, n_jobs=-1, verbose=True)\n",
    "\n",
    "tree_grid.fit(Top5, y)"
   ]
  },
  {
   "cell_type": "code",
   "execution_count": 54,
   "id": "3c55d195",
   "metadata": {},
   "outputs": [
    {
     "name": "stdout",
     "output_type": "stream",
     "text": [
      "Best parameters are {'criterion': 'gini', 'max_depth': 2, 'max_features': 1}\n"
     ]
    }
   ],
   "source": [
    "print (f\"Best parameters are {tree_grid.best_params_}\") "
   ]
  },
  {
   "cell_type": "code",
   "execution_count": 55,
   "id": "f2e23425",
   "metadata": {},
   "outputs": [
    {
     "data": {
      "text/plain": [
       "0.959047619047619"
      ]
     },
     "execution_count": 55,
     "metadata": {},
     "output_type": "execute_result"
    }
   ],
   "source": [
    "tree_grid.best_score_ "
   ]
  },
  {
   "cell_type": "code",
   "execution_count": 56,
   "id": "0a2bce91",
   "metadata": {},
   "outputs": [
    {
     "data": {
      "image/png": "[encoded data removed]",
      "text/plain": [
       "<IPython.core.display.Image object>"
      ]
     },
     "execution_count": 56,
     "metadata": {
      "image/png": {
       "height": 600,
       "width": 600
      }
     },
     "output_type": "execute_result"
    }
   ],
   "source": [
    "#treeBest = DecisionTreeClassifier(max_depth = 3, max_features = 14, random_state=17)\n",
    "\n",
    "tree_graph_to_png(tree=tree_grid.best_estimator_, feature_names=Top5.columns, png_file_to_save='optimalDTtop5.png')\n",
    "\n",
    "\n",
    "from IPython.display import Image\n",
    "from IPython.core.display import HTML \n",
    "PATH = \"optimalDTtop5.png\"\n",
    "Image(filename = PATH , width=600, height=600)"
   ]
  },
  {
   "cell_type": "code",
   "execution_count": 57,
   "id": "e8031448",
   "metadata": {},
   "outputs": [
    {
     "name": "stdout",
     "output_type": "stream",
     "text": [
      "Fitting 5 folds for each of 342 candidates, totalling 1710 fits\n"
     ]
    },
    {
     "data": {
      "text/plain": [
       "GridSearchCV(cv=5, estimator=DecisionTreeClassifier(random_state=17), n_jobs=-1,\n",
       "             param_grid={'criterion': ['gini', 'entropy'],\n",
       "                         'max_depth': range(1, 10),\n",
       "                         'max_features': range(1, 20)},\n",
       "             verbose=True)"
      ]
     },
     "execution_count": 57,
     "metadata": {},
     "output_type": "execute_result"
    }
   ],
   "source": [
    "from sklearn.model_selection import GridSearchCV, cross_val_score\n",
    "\n",
    "tree = DecisionTreeClassifier(random_state=17)\n",
    "\n",
    "tree.fit(Top10, y)\n",
    "\n",
    "tree_params = {'max_depth': range(1,10),\n",
    "               'max_features': range(1,20),\n",
    "                'criterion': ['gini','entropy']}\n",
    "\n",
    "tree_grid = GridSearchCV(tree, tree_params, cv=5, n_jobs=-1, verbose=True)\n",
    "\n",
    "tree_grid.fit(Top10, y)"
   ]
  },
  {
   "cell_type": "code",
   "execution_count": 58,
   "id": "f1fd1e51",
   "metadata": {},
   "outputs": [
    {
     "name": "stdout",
     "output_type": "stream",
     "text": [
      "Best parameters are {'criterion': 'gini', 'max_depth': 2, 'max_features': 7}\n"
     ]
    }
   ],
   "source": [
    "print (f\"Best parameters are {tree_grid.best_params_}\") "
   ]
  },
  {
   "cell_type": "code",
   "execution_count": 59,
   "id": "3b07e8b1",
   "metadata": {},
   "outputs": [
    {
     "data": {
      "text/plain": [
       "0.9323809523809524"
      ]
     },
     "execution_count": 59,
     "metadata": {},
     "output_type": "execute_result"
    }
   ],
   "source": [
    "tree_grid.best_score_ "
   ]
  },
  {
   "cell_type": "code",
   "execution_count": 60,
   "id": "810c4c59",
   "metadata": {},
   "outputs": [
    {
     "data": {
      "image/png": "[encoded data removed]",
      "text/plain": [
       "<IPython.core.display.Image object>"
      ]
     },
     "execution_count": 60,
     "metadata": {
      "image/png": {
       "height": 600,
       "width": 600
      }
     },
     "output_type": "execute_result"
    }
   ],
   "source": [
    "#treeBest = DecisionTreeClassifier(max_depth = 3, max_features = 14, random_state=17)\n",
    "\n",
    "tree_graph_to_png(tree=tree_grid.best_estimator_, feature_names=Top10.columns, png_file_to_save='optimalDTtop10.png')\n",
    "\n",
    "\n",
    "from IPython.display import Image\n",
    "from IPython.core.display import HTML \n",
    "PATH = \"optimalDTtop5.png\"\n",
    "Image(filename = PATH , width=600, height=600)"
   ]
  },
  {
   "cell_type": "code",
   "execution_count": 61,
   "id": "20165367",
   "metadata": {},
   "outputs": [
    {
     "data": {
      "image/png": "[encoded data removed]",
      "text/plain": [
       "<Figure size 432x288 with 1 Axes>"
      ]
     },
     "metadata": {
      "needs_background": "light"
     },
     "output_type": "display_data"
    }
   ],
   "source": [
    "models = []\n",
    "\n",
    "models.append(('1', KNeighborsClassifier(n_neighbors = 1)))\n",
    "models.append(('2', KNeighborsClassifier(n_neighbors = 2)))\n",
    "models.append(('3', KNeighborsClassifier(n_neighbors = 3)))\n",
    "models.append(('4', KNeighborsClassifier(n_neighbors = 4)))\n",
    "models.append(('5', KNeighborsClassifier(n_neighbors = 5)))\n",
    "models.append(('8', KNeighborsClassifier(n_neighbors = 8)))\n",
    "models.append(('10', KNeighborsClassifier(n_neighbors = 10)))\n",
    "models.append(('12', KNeighborsClassifier(n_neighbors = 12)))\n",
    "models.append(('15', KNeighborsClassifier(n_neighbors = 15)))\n",
    "models.append(('18', KNeighborsClassifier(n_neighbors = 18)))\n",
    "models.append(('20', KNeighborsClassifier(n_neighbors = 20)))\n",
    "\n",
    "strat_k_fold = StratifiedKFold(n_splits=5, random_state=10, shuffle = True)\n",
    "\n",
    "names = []\n",
    "scores = []\n",
    "\n",
    "for name, model in models:\n",
    "    \n",
    "    score = cross_val_score(model, Top5, y, cv=strat_k_fold, scoring='accuracy').mean()\n",
    "    names.append(name)\n",
    "    scores.append(score)\n",
    "\n",
    "kf_cross_val = pd.DataFrame({'Name': names, 'Score': scores})\n",
    "\n",
    "axis = sns.barplot(x = 'Name', y = 'Score', data = kf_cross_val)\n",
    "axis.set(xlabel='Classifier', ylabel='Accuracy')\n",
    "\n",
    "for p in axis.patches:\n",
    "    height = p.get_height()\n",
    "    axis.text(p.get_x() + p.get_width()/2, height + 0.005, '{:1.4f}'.format(height), ha=\"center\") \n",
    "    \n",
    "plt.show()"
   ]
  },
  {
   "cell_type": "code",
   "execution_count": 62,
   "id": "5a67b77d",
   "metadata": {},
   "outputs": [
    {
     "data": {
      "image/png": "[encoded data removed]",
      "text/plain": [
       "<Figure size 432x288 with 1 Axes>"
      ]
     },
     "metadata": {
      "needs_background": "light"
     },
     "output_type": "display_data"
    }
   ],
   "source": [
    "models = []\n",
    "\n",
    "models.append(('1', KNeighborsClassifier(n_neighbors = 1)))\n",
    "models.append(('2', KNeighborsClassifier(n_neighbors = 2)))\n",
    "models.append(('3', KNeighborsClassifier(n_neighbors = 3)))\n",
    "models.append(('4', KNeighborsClassifier(n_neighbors = 4)))\n",
    "models.append(('5', KNeighborsClassifier(n_neighbors = 5)))\n",
    "models.append(('8', KNeighborsClassifier(n_neighbors = 8)))\n",
    "models.append(('10', KNeighborsClassifier(n_neighbors = 10)))\n",
    "models.append(('12', KNeighborsClassifier(n_neighbors = 12)))\n",
    "models.append(('15', KNeighborsClassifier(n_neighbors = 15)))\n",
    "models.append(('18', KNeighborsClassifier(n_neighbors = 18)))\n",
    "models.append(('20', KNeighborsClassifier(n_neighbors = 20)))\n",
    "\n",
    "strat_k_fold = StratifiedKFold(n_splits=5, random_state=10, shuffle = True)\n",
    "\n",
    "names = []\n",
    "scores = []\n",
    "\n",
    "for name, model in models:\n",
    "    \n",
    "    score = cross_val_score(model, Top10, y, cv=strat_k_fold, scoring='accuracy').mean()\n",
    "    names.append(name)\n",
    "    scores.append(score)\n",
    "\n",
    "kf_cross_val = pd.DataFrame({'Name': names, 'Score': scores})\n",
    "\n",
    "axis = sns.barplot(x = 'Name', y = 'Score', data = kf_cross_val)\n",
    "axis.set(xlabel='Classifier', ylabel='Accuracy')\n",
    "\n",
    "for p in axis.patches:\n",
    "    height = p.get_height()\n",
    "    axis.text(p.get_x() + p.get_width()/2, height + 0.005, '{:1.4f}'.format(height), ha=\"center\") \n",
    "    \n",
    "plt.show()"
   ]
  },
  {
   "cell_type": "code",
   "execution_count": 64,
   "id": "341175e3",
   "metadata": {},
   "outputs": [
    {
     "name": "stdout",
     "output_type": "stream",
     "text": [
      "  Name     Score\n",
      "0  KNN  0.945714\n",
      "1   DT  0.914286\n",
      "2  GNB  0.971429\n",
      "3  BNB  0.845714\n"
     ]
    }
   ],
   "source": [
    "models = []\n",
    "\n",
    "models.append(('KNN', KNeighborsClassifier()))\n",
    "models.append(('DT', DecisionTreeClassifier()))\n",
    "models.append(('GNB', GaussianNB()))\n",
    "models.append((\"BNB\", BernoulliNB()))\n",
    "\n",
    "strat_k_fold = StratifiedKFold(n_splits=5, random_state=10, shuffle = True)\n",
    "\n",
    "names = []\n",
    "scores = []\n",
    "\n",
    "for name, model in models:\n",
    "    \n",
    "    score = cross_val_score(model, Top5, y, cv=strat_k_fold, scoring='accuracy').mean()\n",
    "    names.append(name)\n",
    "    scores.append(score)\n",
    "\n",
    "kf_cross_val = pd.DataFrame({'Name': names, 'Score': scores})\n",
    "print(kf_cross_val)"
   ]
  },
  {
   "cell_type": "code",
   "execution_count": 65,
   "id": "39becd50",
   "metadata": {},
   "outputs": [
    {
     "name": "stdout",
     "output_type": "stream",
     "text": [
      "  Name     Score\n",
      "0  KNN  0.944762\n",
      "1   DT  0.873333\n",
      "2  GNB  0.958095\n",
      "3  BNB  0.902857\n"
     ]
    }
   ],
   "source": [
    "models = []\n",
    "\n",
    "models.append(('KNN', KNeighborsClassifier()))\n",
    "models.append(('DT', DecisionTreeClassifier()))\n",
    "models.append(('GNB', GaussianNB()))\n",
    "models.append((\"BNB\", BernoulliNB()))\n",
    "\n",
    "strat_k_fold = StratifiedKFold(n_splits=5, random_state=10, shuffle = True)\n",
    "\n",
    "names = []\n",
    "scores = []\n",
    "\n",
    "for name, model in models:\n",
    "    \n",
    "    score = cross_val_score(model, Top10, y, cv=strat_k_fold, scoring='accuracy').mean()\n",
    "    names.append(name)\n",
    "    scores.append(score)\n",
    "\n",
    "kf_cross_val = pd.DataFrame({'Name': names, 'Score': scores})\n",
    "print(kf_cross_val)"
   ]
  }
 ],
 "metadata": {
  "kernelspec": {
   "display_name": "Python 3",
   "language": "python",
   "name": "python3"
  },
  "language_info": {
   "codemirror_mode": {
    "name": "ipython",
    "version": 3
   },
   "file_extension": ".py",
   "mimetype": "text/x-python",
   "name": "python",
   "nbconvert_exporter": "python",
   "pygments_lexer": "ipython3",
   "version": "3.8.8"
  }
 },
 "nbformat": 4,
 "nbformat_minor": 5
}
